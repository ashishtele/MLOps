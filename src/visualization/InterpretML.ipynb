{
 "cells": [
  {
   "cell_type": "code",
   "execution_count": 1,
   "metadata": {},
   "outputs": [],
   "source": [
    "import numpy as np\n",
    "import ipykernel as ipy\n",
    "import pandas as pd\n",
    "import yaml\n",
    "import argparse\n",
    "import typing\n",
    "import matplotlib.pyplot as plt\n",
    "from sklearn.metrics import f1_score,recall_score,accuracy_score,precision_score,confusion_matrix,classification_report\n",
    "from interpret.glassbox import ExplainableBoostingClassifier\n",
    "from interpret import show\n",
    "from interpret.provider import InlineProvider\n",
    "from interpret import set_visualize_provider\n",
    "set_visualize_provider(InlineProvider())\n",
    "from interpret.data import ClassHistogram\n",
    "from interpret import show, preserve, show_link, set_show_addr"
   ]
  },
  {
   "cell_type": "code",
   "execution_count": 2,
   "metadata": {},
   "outputs": [
    {
     "data": {
      "text/html": [
       "<div>\n",
       "<style scoped>\n",
       "    .dataframe tbody tr th:only-of-type {\n",
       "        vertical-align: middle;\n",
       "    }\n",
       "\n",
       "    .dataframe tbody tr th {\n",
       "        vertical-align: top;\n",
       "    }\n",
       "\n",
       "    .dataframe thead th {\n",
       "        text-align: right;\n",
       "    }\n",
       "</style>\n",
       "<table border=\"1\" class=\"dataframe\">\n",
       "  <thead>\n",
       "    <tr style=\"text-align: right;\">\n",
       "      <th></th>\n",
       "      <th>churn</th>\n",
       "      <th>number_vmail_messages</th>\n",
       "      <th>total_day_calls</th>\n",
       "      <th>total_eve_minutes</th>\n",
       "      <th>total_eve_charge</th>\n",
       "      <th>total_intl_minutes</th>\n",
       "      <th>number_customer_service_calls</th>\n",
       "    </tr>\n",
       "  </thead>\n",
       "  <tbody>\n",
       "    <tr>\n",
       "      <th>0</th>\n",
       "      <td>no</td>\n",
       "      <td>37</td>\n",
       "      <td>58</td>\n",
       "      <td>221.9</td>\n",
       "      <td>18.86</td>\n",
       "      <td>12.3</td>\n",
       "      <td>1</td>\n",
       "    </tr>\n",
       "    <tr>\n",
       "      <th>1</th>\n",
       "      <td>no</td>\n",
       "      <td>0</td>\n",
       "      <td>59</td>\n",
       "      <td>283.3</td>\n",
       "      <td>24.08</td>\n",
       "      <td>5.8</td>\n",
       "      <td>2</td>\n",
       "    </tr>\n",
       "    <tr>\n",
       "      <th>2</th>\n",
       "      <td>no</td>\n",
       "      <td>0</td>\n",
       "      <td>98</td>\n",
       "      <td>188.1</td>\n",
       "      <td>15.99</td>\n",
       "      <td>12.0</td>\n",
       "      <td>2</td>\n",
       "    </tr>\n",
       "    <tr>\n",
       "      <th>3</th>\n",
       "      <td>no</td>\n",
       "      <td>31</td>\n",
       "      <td>92</td>\n",
       "      <td>238.3</td>\n",
       "      <td>20.26</td>\n",
       "      <td>10.7</td>\n",
       "      <td>4</td>\n",
       "    </tr>\n",
       "    <tr>\n",
       "      <th>4</th>\n",
       "      <td>no</td>\n",
       "      <td>0</td>\n",
       "      <td>64</td>\n",
       "      <td>139.8</td>\n",
       "      <td>11.88</td>\n",
       "      <td>11.6</td>\n",
       "      <td>2</td>\n",
       "    </tr>\n",
       "  </tbody>\n",
       "</table>\n",
       "</div>"
      ],
      "text/plain": [
       "  churn  number_vmail_messages  total_day_calls  total_eve_minutes  \\\n",
       "0    no                     37               58              221.9   \n",
       "1    no                      0               59              283.3   \n",
       "2    no                      0               98              188.1   \n",
       "3    no                     31               92              238.3   \n",
       "4    no                      0               64              139.8   \n",
       "\n",
       "   total_eve_charge  total_intl_minutes  number_customer_service_calls  \n",
       "0             18.86                12.3                              1  \n",
       "1             24.08                 5.8                              2  \n",
       "2             15.99                12.0                              2  \n",
       "3             20.26                10.7                              4  \n",
       "4             11.88                11.6                              2  "
      ]
     },
     "execution_count": 2,
     "metadata": {},
     "output_type": "execute_result"
    }
   ],
   "source": [
    "df = pd.read_csv('C:\\\\Users\\\\ashis\\\\OneDrive\\\\Desktop\\\\MLOps\\\\churn_model\\\\data\\\\processed\\\\churn_train.csv')\n",
    "df_test = pd.read_csv('C:\\\\Users\\\\ashis\\\\OneDrive\\\\Desktop\\\\MLOps\\\\churn_model\\\\data\\\\processed\\\\churn_test.csv')\n",
    "df.head()"
   ]
  },
  {
   "cell_type": "code",
   "execution_count": 15,
   "metadata": {},
   "outputs": [
    {
     "name": "stdout",
     "output_type": "stream",
     "text": [
      "train shape: (3400, 6)\n",
      "test shape: (850, 6)\n"
     ]
    }
   ],
   "source": [
    "train_x = df[[col for col in df.columns if col not in ['churn']]]\n",
    "train_y = df['churn']\n",
    "test_x = df_test[[col for col in df_test.columns if col not in ['churn']]]\n",
    "test_y = df_test['churn']\n",
    "\n",
    "print(f'train shape: {train_x.shape}')\n",
    "print(f'test shape: {test_x.shape}')"
   ]
  },
  {
   "cell_type": "code",
   "execution_count": 4,
   "metadata": {},
   "outputs": [
    {
     "name": "stderr",
     "output_type": "stream",
     "text": [
      "C:\\Users\\ashis\\AppData\\Local\\Programs\\Python\\Python38\\lib\\site-packages\\interpret\\visual\\udash.py:5: UserWarning: \n",
      "The dash_html_components package is deprecated. Please replace\n",
      "`import dash_html_components as html` with `from dash import html`\n",
      "  import dash_html_components as html\n",
      "C:\\Users\\ashis\\AppData\\Local\\Programs\\Python\\Python38\\lib\\site-packages\\interpret\\visual\\udash.py:6: UserWarning: \n",
      "The dash_core_components package is deprecated. Please replace\n",
      "`import dash_core_components as dcc` with `from dash import dcc`\n",
      "  import dash_core_components as dcc\n",
      "C:\\Users\\ashis\\AppData\\Local\\Programs\\Python\\Python38\\lib\\site-packages\\interpret\\visual\\udash.py:7: UserWarning: \n",
      "The dash_table package is deprecated. Please replace\n",
      "`import dash_table` with `from dash import dash_table`\n",
      "\n",
      "Also, if you're using any of the table format helpers (e.g. Group), replace \n",
      "`from dash_table.Format import Group` with \n",
      "`from dash.dash_table.Format import Group`\n",
      "  import dash_table as dt\n"
     ]
    },
    {
     "data": {
      "text/html": [
       "<!-- http://127.0.0.1:5000/1618661691248/ -->\n",
       "<iframe src=\"http://127.0.0.1:5000/1618661691248/\" width=100% height=800 frameBorder=\"0\"></iframe>"
      ]
     },
     "metadata": {},
     "output_type": "display_data"
    }
   ],
   "source": [
    "ebm = ExplainableBoostingClassifier()\n",
    "ebm.fit(train_x, train_y)\n",
    "\n",
    "ebm_global = ebm.explain_global(name = 'EBM')\n",
    "#preserve(ebm_global, 'number_customer_service_calls', 'number_customer_service_calls.html')\n",
    "set_show_addr((\"127.0.0.1\", 5000))\n",
    "show(ebm_global)"
   ]
  },
  {
   "cell_type": "code",
   "execution_count": 17,
   "metadata": {},
   "outputs": [
    {
     "data": {
      "text/html": [
       "<!-- http://127.0.0.1:5000/1618657640352/ -->\n",
       "<iframe src=\"http://127.0.0.1:5000/1618657640352/\" width=100% height=800 frameBorder=\"0\"></iframe>"
      ]
     },
     "metadata": {},
     "output_type": "display_data"
    }
   ],
   "source": [
    "ebm_local = ebm.explain_local(train_x[:20], train_y[:20], name='EBM')\n",
    "show(ebm_local)"
   ]
  },
  {
   "cell_type": "code",
   "execution_count": 6,
   "metadata": {},
   "outputs": [
    {
     "data": {
      "text/html": [
       "<!-- http://127.0.0.1:5000/1618499104928/ -->\n",
       "<iframe src=\"http://127.0.0.1:5000/1618499104928/\" width=100% height=800 frameBorder=\"0\"></iframe>"
      ]
     },
     "metadata": {},
     "output_type": "display_data"
    }
   ],
   "source": [
    "hist = ClassHistogram().explain_data(train_x, train_y, name=\"Train Data\")\n",
    "show(hist)"
   ]
  },
  {
   "cell_type": "code",
   "execution_count": 7,
   "metadata": {},
   "outputs": [
    {
     "data": {
      "text/plain": [
       "RandomizedSearchCV(cv=3,\n",
       "                   estimator=ExplainableBoostingClassifier(n_jobs=-1,\n",
       "                                                           random_state=314),\n",
       "                   param_distributions={'interactions': [5, 10, 15],\n",
       "                                        'learning_rate': [0.001, 0.005, 0.01,\n",
       "                                                          0.03],\n",
       "                                        'max_interaction_bins': [10, 15, 20],\n",
       "                                        'max_leaves': [3, 5, 10],\n",
       "                                        'max_rounds': [5000, 10000, 15000,\n",
       "                                                       20000],\n",
       "                                        'min_samples_leaf': [2, 3, 5]},\n",
       "                   random_state=314, scoring='roc_auc', verbose=False)"
      ]
     },
     "execution_count": 7,
     "metadata": {},
     "output_type": "execute_result"
    }
   ],
   "source": [
    "from interpret.glassbox import ExplainableBoostingClassifier\n",
    "from sklearn.model_selection import RandomizedSearchCV\n",
    "param_test = {'learning_rate': [0.001,0.005,0.01,0.02],\n",
    "              'interactions': [5,10,15],\n",
    "              'max_interaction_bins': [10,15,20],\n",
    "              'max_rounds': [500,1000,1500,2000],\n",
    "              'min_samples_leaf': [2,3,5],\n",
    "              'max_leaves': [3,5,10]}\n",
    "n_HP_points_to_test=10\n",
    "LGBM_clf = ExplainableBoostingClassifier(random_state=314, n_jobs=-1)\n",
    "LGBM_gs = RandomizedSearchCV(\n",
    "    estimator=LGBM_clf,\n",
    "    param_distributions=param_test,\n",
    "    n_iter=n_HP_points_to_test,\n",
    "    scoring=\"roc_auc\",\n",
    "    cv=3,\n",
    "    refit=True,\n",
    "    random_state=314,\n",
    "    verbose=False,\n",
    ")\n",
    "LGBM_gs.fit(train_x, train_y)"
   ]
  },
  {
   "cell_type": "code",
   "execution_count": 16,
   "metadata": {},
   "outputs": [
    {
     "data": {
      "text/html": [
       "<!-- http://127.0.0.1:5000/1618499858976/ -->\n",
       "<iframe src=\"http://127.0.0.1:5000/1618499858976/\" width=100% height=800 frameBorder=\"0\"></iframe>"
      ]
     },
     "metadata": {},
     "output_type": "display_data"
    }
   ],
   "source": [
    "from interpret import perf\n",
    "roc = perf.ROC(LGBM_gs.best_estimator_.predict_proba, feature_names=train_x.columns)\n",
    "test_y = test_y.map({'yes':1,'no':0})\n",
    "roc_explanation = roc.explain_perf(test_x, test_y)\n",
    "show(roc_explanation)"
   ]
  }
 ],
 "metadata": {
  "interpreter": {
   "hash": "1deb2d4d833fbe0f3cb033fcd665d2e34bae7a1b522b16b824da2bb6fe152f49"
  },
  "kernelspec": {
   "display_name": "Python 3.7.11 64-bit ('churn_model': conda)",
   "language": "python",
   "name": "python3"
  },
  "language_info": {
   "codemirror_mode": {
    "name": "ipython",
    "version": 3
   },
   "file_extension": ".py",
   "mimetype": "text/x-python",
   "name": "python",
   "nbconvert_exporter": "python",
   "pygments_lexer": "ipython3",
   "version": "3.8.7"
  },
  "orig_nbformat": 4
 },
 "nbformat": 4,
 "nbformat_minor": 2
}
